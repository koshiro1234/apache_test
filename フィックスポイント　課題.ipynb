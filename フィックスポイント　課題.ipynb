{
 "cells": [
  {
   "cell_type": "code",
   "execution_count": 1,
   "metadata": {},
   "outputs": [],
   "source": [
    "import apache_log_parser\n",
    "import glob\n",
    "import os\n",
    "import datetime\n",
    "from pprint import pprint"
   ]
  },
  {
   "cell_type": "code",
   "execution_count": 6,
   "metadata": {},
   "outputs": [],
   "source": [
    "def file_read():\n",
    "    #ファイルの読み込み\n",
    "    files = {}\n",
    "    test_log = {}\n",
    "    test_logs = []\n",
    "    i = 0\n",
    "    for file in glob.glob(\"test_data*.txt\"):\n",
    "        i+=1\n",
    "        files[i] = file\n",
    "        with open(file, \"r\") as f:\n",
    "            for test_log in f:\n",
    "                yield test_log\n"
   ]
  },
  {
   "cell_type": "code",
   "execution_count": 3,
   "metadata": {
    "scrolled": true
   },
   "outputs": [],
   "source": [
    "#指定した期間の入力\n",
    "def time_entry():\n",
    "    while True:\n",
    "        try:\n",
    "            print(\"year_start\")\n",
    "            y_s = int(input())\n",
    "\n",
    "            print(\"month_start\")\n",
    "            m_s = int(input())\n",
    "            if(m_s > 12): \n",
    "                print(\"12より下の数字を入力してください\")\n",
    "                continue\n",
    "\n",
    "            print(\"day_start\")\n",
    "            d_s = int(input())\n",
    "            if(d_s > 31):\n",
    "                print(\"31より下の数字を入力してください\")\n",
    "                continue\n",
    "\n",
    "            print(\"year_finish\")\n",
    "            y_f = int(input())\n",
    "\n",
    "            print(\"month_finish\")\n",
    "            m_f = int(input())\n",
    "            if(m_f > 12): \n",
    "                print(\"12より下の数字を入力してください\")\n",
    "                continue\n",
    "\n",
    "            print(\"day_finish\")\n",
    "            d_f = int(input())\n",
    "            if(d_f > 31):\n",
    "                print(\"31より下の数字を入力してください\")\n",
    "                continue\n",
    "            \n",
    "            if(y_s < y_f):\n",
    "                if(m_s < m_f):\n",
    "                    if(d_s < d_f):\n",
    "                        print('期間設定がおかしいです')\n",
    "                        continue\n",
    "            break\n",
    "        except ValueError:\n",
    "            print(\"数値を代入してください\")\n",
    "\n",
    "    start = datetime.date(y_s,m_s,d_s)\n",
    "    finish = datetime.date(y_f,m_f,d_f)\n",
    "    print(start)\n",
    "    print(finish)\n",
    "    return start,finish"
   ]
  },
  {
   "cell_type": "code",
   "execution_count": 4,
   "metadata": {},
   "outputs": [],
   "source": [
    "#ログのデータの読み込み\n",
    "def logs_read(test_log,start,finish):\n",
    "    line_parser = apache_log_parser.make_parser(\"%h %l %u %t \\\"%r\\\" %>s %b \\\"%{Referer}i\\\" \\\"%{User-Agent}i\\\"\")\n",
    "    log = [] #ログのデータ\n",
    "    \n",
    "    log_line_data = line_parser(test_log)\n",
    "    log_time = log_line_data[\"time_received_datetimeobj\"]\n",
    "    log_time_date = datetime.date(log_time.year,log_time.month,log_time.day)\n",
    "    if(start <= log_time_date <= finish):\n",
    "        log = log_line_data\n",
    "    return log"
   ]
  },
  {
   "cell_type": "code",
   "execution_count": 5,
   "metadata": {},
   "outputs": [
    {
     "name": "stdout",
     "output_type": "stream",
     "text": [
      "year_start\n",
      "2005\n",
      "month_start\n",
      "1\n",
      "day_start\n",
      "1\n",
      "year_finish\n",
      "2005\n",
      "month_finish\n",
      "12\n",
      "day_finish\n",
      "21\n",
      "2005-01-01\n",
      "2005-12-21\n",
      "{0: 59403,\n",
      " 1: 0,\n",
      " 2: 0,\n",
      " 3: 0,\n",
      " 4: 0,\n",
      " 5: 0,\n",
      " 6: 0,\n",
      " 7: 0,\n",
      " 8: 0,\n",
      " 9: 0,\n",
      " 10: 0,\n",
      " 11: 0,\n",
      " 12: 0,\n",
      " 13: 0,\n",
      " 14: 0,\n",
      " 15: 0,\n",
      " 16: 0,\n",
      " 17: 0,\n",
      " 18: 0,\n",
      " 19: 0,\n",
      " 20: 0,\n",
      " 21: 0,\n",
      " 22: 0,\n",
      " 23: 0}\n",
      "{'10.2.3.4': 59403}\n"
     ]
    }
   ],
   "source": [
    "if __name__ == '__main__':\n",
    "    start,finish = time_entry()\n",
    "    host_name = {} #ホスト名ごとのアクセス件数\n",
    "    log_hour = {} #各時間帯のアクセス件数のデータ\n",
    "    for i in range (0,24):\n",
    "        log_hour[i] = 0\n",
    "        \n",
    "    for test_log in file_read():\n",
    "        log = logs_read(test_log,start,finish)\n",
    "        #ログの時間帯による集計\n",
    "        hour = log[\"time_received_datetimeobj\"].hour\n",
    "        log_hour[hour] += 1\n",
    "        #ホスト名ごとによる集計\n",
    "        host_name.setdefault(log[\"remote_host\"],0) \n",
    "        host_name[log[\"remote_host\"]] +=1\n",
    "        \n",
    "    pprint(log_hour)\n",
    "    print(host_name)"
   ]
  },
  {
   "cell_type": "code",
   "execution_count": null,
   "metadata": {},
   "outputs": [],
   "source": []
  },
  {
   "cell_type": "code",
   "execution_count": null,
   "metadata": {},
   "outputs": [],
   "source": []
  },
  {
   "cell_type": "code",
   "execution_count": null,
   "metadata": {},
   "outputs": [],
   "source": []
  },
  {
   "cell_type": "code",
   "execution_count": null,
   "metadata": {},
   "outputs": [],
   "source": []
  },
  {
   "cell_type": "code",
   "execution_count": null,
   "metadata": {},
   "outputs": [],
   "source": []
  },
  {
   "cell_type": "code",
   "execution_count": null,
   "metadata": {},
   "outputs": [],
   "source": []
  }
 ],
 "metadata": {
  "kernelspec": {
   "display_name": "Python 3",
   "language": "python",
   "name": "python3"
  },
  "language_info": {
   "codemirror_mode": {
    "name": "ipython",
    "version": 3
   },
   "file_extension": ".py",
   "mimetype": "text/x-python",
   "name": "python",
   "nbconvert_exporter": "python",
   "pygments_lexer": "ipython3",
   "version": "3.7.5"
  }
 },
 "nbformat": 4,
 "nbformat_minor": 2
}
